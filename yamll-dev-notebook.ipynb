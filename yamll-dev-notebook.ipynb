{
 "cells": [
  {
   "cell_type": "markdown",
   "metadata": {},
   "source": [
    "# New Start"
   ]
  },
  {
   "cell_type": "code",
   "execution_count": 94,
   "metadata": {},
   "outputs": [],
   "source": [
    "import pandas as pd\n",
    "from sklearn.model_selection import train_test_split\n",
    "import ppscore as pps\n",
    "\n",
    "dataset= 'CreditModellingTestCase.csv'\n",
    "\n",
    "df = pd.read_csv('D:/Work/Libraries/Testing data/' + dataset, sep=';')\n",
    "df = df.loc[df['default'].notnull()]\n",
    "\n",
    "# Feature types\n",
    "y = 'default'\n",
    "id_feats = 'uuid'\n",
    "x = df.columns.drop(y).drop(id_feats)\n",
    "df[y] = df[y].astype('category').cat.codes\n",
    "\n",
    "# Split\n",
    "x_train, x_test, y_train, y_test = train_test_split(df[x], df[y], test_size=0.2)\n",
    "\n",
    "numeric_features = x_train.select_dtypes(include=['int64', 'float64']).columns\n",
    "categorical_features = x_train.select_dtypes(include=['object']).columns"
   ]
  },
  {
   "cell_type": "code",
   "execution_count": 52,
   "metadata": {},
   "outputs": [
    {
     "data": {
      "text/plain": [
       "Pipeline(memory=None,\n",
       "         steps=[('preprocessor',\n",
       "                 ColumnTransformer(n_jobs=None, remainder='drop',\n",
       "                                   sparse_threshold=0.3,\n",
       "                                   transformer_weights=None,\n",
       "                                   transformers=[('num',\n",
       "                                                  Pipeline(memory=None,\n",
       "                                                           steps=[('impute',\n",
       "                                                                   SimpleImputer(add_indicator=False,\n",
       "                                                                                 copy=True,\n",
       "                                                                                 fill_value=None,\n",
       "                                                                                 missing_values=nan,\n",
       "                                                                                 strategy='median',\n",
       "                                                                                 verbose=0)),\n",
       "                                                                  ('scale',\n",
       "                                                                   StandardScaler(copy=True,\n",
       "                                                                                  with_mean=T...\n",
       "                                                                                 copy=True,\n",
       "                                                                                 fill_value=None,\n",
       "                                                                                 missing_values=nan,\n",
       "                                                                                 strategy='most_frequent',\n",
       "                                                                                 verbose=0)),\n",
       "                                                                  ('encoder',\n",
       "                                                                   OneHotEncoder(cols=None,\n",
       "                                                                                 drop_invariant=False,\n",
       "                                                                                 handle_missing='value',\n",
       "                                                                                 handle_unknown='value',\n",
       "                                                                                 return_df=True,\n",
       "                                                                                 use_cat_names=False,\n",
       "                                                                                 verbose=0))],\n",
       "                                                           verbose=False),\n",
       "                                                  Index(['merchant_category', 'merchant_group', 'name_in_email'], dtype='object'))],\n",
       "                                   verbose=False))],\n",
       "         verbose=False)"
      ]
     },
     "execution_count": 52,
     "metadata": {},
     "output_type": "execute_result"
    }
   ],
   "source": [
    "from sklearn.pipeline import Pipeline\n",
    "from sklearn.preprocessing import StandardScaler\n",
    "from sklearn.impute import SimpleImputer\n",
    "from sklearn.compose import ColumnTransformer\n",
    "import category_encoders as ce # Categorical encoding methods\n",
    "from sklearn.ensemble import RandomForestClassifier\n",
    "from sklearn import preprocessing\n",
    "\n",
    "le = preprocessing.LabelEncoder()\n",
    "label_encoder = le.fit(y_train)\n",
    "y_train = label_encoder.transform(y_train)\n",
    "\n",
    "# Steps:\n",
    "# 0. split into train, validation and test\n",
    "# 1. remove constant features\n",
    "# 2. remove duplicated features i.e. correlation = 1\n",
    "# 3. remove all missing features\n",
    "# 4. format features i.e. bool to int\n",
    "# 5. identify features by type\n",
    "# 6. date time feature encodings\n",
    "# 7. imputation (all)\n",
    "# 8. outliers (numeric)\n",
    "# 9. tranforms (numeric)\n",
    "# 10. categorical interactions\n",
    "# 11. categorical encodings\n",
    "# 12. kmeans encodings (numeric)\n",
    "# 13. polynomial features (numeric)\n",
    "# 14. scaler (numeric)\n",
    "# 15. pca features (numeric)\n",
    "\n",
    "num_transform = Pipeline([\n",
    "    ('impute', SimpleImputer(strategy = 'median', add_indicator=False)),\n",
    "    ('scale', StandardScaler())\n",
    "])\n",
    "\n",
    "cat_transform = Pipeline([\n",
    "    ('impute', SimpleImputer(strategy = 'most_frequent', add_indicator=False)),\n",
    "    ('encoder', ce.one_hot.OneHotEncoder())\n",
    "])\n",
    "\n",
    "preprocessor = ColumnTransformer(\n",
    "    transformers=[\n",
    "        ('num', num_transform, numeric_features),\n",
    "        ('cat', cat_transform, categorical_features)\n",
    "    ])\n",
    "\n",
    "#preprocessor.fit(x_train, y_train) \n",
    "\n",
    "#pipeline = Pipeline([\n",
    "#    ('preprocessor', preprocessor),\n",
    "#    ('classifier', RandomForestClassifier(n_estimators=500))\n",
    "#])\n",
    "\n",
    "pipeline = Pipeline([\n",
    "    ('preprocessor', preprocessor)\n",
    "])\n",
    "\n",
    "pipeline.fit(x_train, y_train)"
   ]
  },
  {
   "cell_type": "code",
   "execution_count": 83,
   "metadata": {},
   "outputs": [],
   "source": [
    "#x_train = pipeline.transform(x_train)\n",
    "x_test = pipeline.transform(x_test)"
   ]
  },
  {
   "cell_type": "code",
   "execution_count": 51,
   "metadata": {},
   "outputs": [
    {
     "name": "stdout",
     "output_type": "stream",
     "text": [
      "1.0\n",
      "0.5697170413984974\n"
     ]
    }
   ],
   "source": [
    "from sklearn.metrics import f1_score\n",
    "y_pred = model.predict(x_train)\n",
    "print(f1_score(y_train, y_pred, average='macro'))\n",
    "\n",
    "y_pred = model.predict(x_test)\n",
    "print(f1_score(y_test, y_pred, average='macro'))"
   ]
  },
  {
   "cell_type": "markdown",
   "metadata": {},
   "source": [
    "# New End"
   ]
  },
  {
   "cell_type": "code",
   "execution_count": 11,
   "metadata": {},
   "outputs": [],
   "source": [
    "import pandas as pd\n",
    "import numpy as np\n",
    "\n",
    "dataset= 'CreditModellingTestCase.csv'\n",
    "\n",
    "df=pd.read_csv('D:/Work/Libraries/Testing data/' + dataset, sep=';')\n",
    "\n",
    "if dataset == 'CreditModellingTestCase.csv':\n",
    "    df['datetime_feature'] = pd.date_range(start='01-01-1900', periods = df.shape[0]) # For testing\n",
    "    df['time_partition_feature'] = pd.date_range(start='01-01-1900', periods = df.shape[0]) # For testing\n",
    "    df = df.loc[df['default'].notnull()]\n",
    "\n",
    "    df['name_in_email'] = np.where(df['name_in_email'] == 'no_match', np.NaN, df['name_in_email']) # To test imputation\n",
    "\n",
    "    # Dummy indicator features\n",
    "    df['has_paid_char'] = np.where(df['has_paid'] == 1, 'yes','NO')\n",
    "    df['has_paid_logic'] = np.where(df['has_paid'] == 1, True, False)\n",
    "    \n",
    "    y = 'default'\n",
    "    id_features = ['uuid','time_partition_feature']\n",
    "    \n",
    "if dataset == 'HR_Analytics.csv':\n",
    "    y = 'left'\n",
    "    df['id'] = df.index\n",
    "    id_features = 'id'"
   ]
  },
  {
   "cell_type": "code",
   "execution_count": 13,
   "metadata": {},
   "outputs": [],
   "source": [
    "# Import all functions developed so far from this directory\n",
    "import os\n",
    "os.chdir(\"D:/Work/Libraries/yamll\")\n",
    "# Yet another machine learning library\n",
    "from yamll import *"
   ]
  },
  {
   "cell_type": "markdown",
   "metadata": {},
   "source": [
    "# Execute functions"
   ]
  },
  {
   "cell_type": "code",
   "execution_count": null,
   "metadata": {},
   "outputs": [],
   "source": [
    "# 1. Perform eda on new dataset\n",
    "eda = explore_df(df)\n",
    "\n",
    "# 2. Remove problematic features\n",
    "remove = eda.loc[(eda['constant'] == 1) | (eda['all_missing'] == 1)]['feature']\n",
    "df = df.drop(remove)\n",
    "numeric_transforms = eda.loc[(eda['skewness'].abs() >= 6)]['feature']\n",
    "\n",
    "# 2.1 Remove duplicated features\n",
    "#df = drop_correlated_features(df, correlation_cutoff=1)\n",
    "\n",
    "# 3. Format features \n",
    "df = format_features(df)\n",
    "\n",
    "# 4. Partition data into train, valid and test\n",
    "train, valid, test = partition_data(df=df, y=y)\n",
    "df = combine_partitions(train, valid, test)\n",
    "\n",
    "# 5. Detect feature types\n",
    "numeric, categorical, datetime, flag = get_feature_types(df = df, y = y, id = ['split_ind','uuid','time_partition_feature'])\n",
    "x_features = numeric + categorical + flag + datetime\n",
    "\n",
    "# 6. Pre-processing\n",
    "# 6.1 Datetime features\n",
    "df = apply_datetime_encoding(df=df, x=datetime)\n",
    "\n",
    "# 6.2 Imputation\n",
    "#  - new functions created to avoid constant feature creation for tracking features\n",
    "d_imputation = map_imputation_encoding(df.loc[df['split_ind'] == 'train'].copy(), x = x_features)\n",
    "df = apply_imputation_encoding(df=df, mapping_table=d_imputation, tracking_flags=False)\n",
    "\n",
    "# 6.3 Outlier clipping\n",
    "d_outlier_encodings = map_outlier_encoding(df=df, x=numeric)\n",
    "df = apply_outlier_encoding(df=df, mapping_table=d_outlier_encodings, method='percentile')\n",
    "\n",
    "# 6.4 Numerical transforms\n",
    "numeric_transforms = numeric_transforms[numeric_transforms.isin(x_features)]\n",
    "df = apply_numeric_transforms(df=df, x=numeric_transforms)\n",
    "\n",
    "# 6.5 Categorical interactions\n",
    "#  - ToDo! Duplicate features are created in mapping table, need to create unique mappings then only apply\n",
    "d_categorical_interactions = map_categorical_interactions(categorical)\n",
    "df = apply_categorical_interactions(df, d_categorical_interactions)\n",
    "\n",
    "# 6.6 Categorical encoding\n",
    "cf = categorical + list('interaction_' + d_categorical_interactions['base_feature'] + '_' + d_categorical_interactions['interacted_feature']) # Inlcude categorical interaction features\n",
    "d_categorical_encoding = map_categorical_encoding(df=df.loc[df['split_ind'] == 'train'].copy(), x = cf, y=y)\n",
    "df = apply_categorical_encoding(df=df, mapping_table=d_categorical_encoding, encode_mode='onehot', tracking_flags=False)\n",
    "\n",
    "# 6.7 Kmeans features\n",
    "d_kmeans_encoding = map_kmeans_encoding(df=df, x=numeric, clusters=5, sample_size=0.3, seed=1234)\n",
    "df = apply_kmeans_encoding(df=df, mapping_table=d_kmeans_encoding, encode_type='distance_to_center')\n",
    "\n",
    "print(\"Done\")"
   ]
  },
  {
   "cell_type": "code",
   "execution_count": null,
   "metadata": {},
   "outputs": [],
   "source": [
    "check = pd.DataFrame()\n",
    "check['missing'] = df.isnull().sum()\n",
    "check.loc[check['missing'] > 0]"
   ]
  },
  {
   "cell_type": "code",
   "execution_count": null,
   "metadata": {},
   "outputs": [],
   "source": [
    "#df.to_csv('D:/Work/Libraries/yamll/test.csv')"
   ]
  },
  {
   "cell_type": "markdown",
   "metadata": {},
   "source": [
    "# Development of new functions"
   ]
  },
  {
   "cell_type": "code",
   "execution_count": null,
   "metadata": {},
   "outputs": [],
   "source": [
    "y = 'default'\n",
    "pipeline = make_pipeline(\"test\")\n",
    "\n",
    "#def preprocess(df, x, y=None, pipeline, mapping_list=None):\n",
    "\n",
    "\n",
    "mapping_list = {\n",
    "    \"d_imputation\":d_imputation,\n",
    "    \"d_outlier_encodings\":d_outlier_encodings,\n",
    "    \"d_categorical_interactions\":d_categorical_interactions,\n",
    "    \"d_categorical_encoding\":d_categorical_encoding,\n",
    "    \"d_kmeans_encoding\":d_kmeans_encoding\n",
    "}"
   ]
  },
  {
   "cell_type": "code",
   "execution_count": null,
   "metadata": {},
   "outputs": [],
   "source": [
    "pipeline\n",
    "\n",
    "\n"
   ]
  },
  {
   "cell_type": "code",
   "execution_count": null,
   "metadata": {},
   "outputs": [],
   "source": []
  }
 ],
 "metadata": {
  "kernelspec": {
   "display_name": "Python 3",
   "language": "python",
   "name": "python3"
  },
  "language_info": {
   "codemirror_mode": {
    "name": "ipython",
    "version": 3
   },
   "file_extension": ".py",
   "mimetype": "text/x-python",
   "name": "python",
   "nbconvert_exporter": "python",
   "pygments_lexer": "ipython3",
   "version": "3.8.1"
  }
 },
 "nbformat": 4,
 "nbformat_minor": 4
}
